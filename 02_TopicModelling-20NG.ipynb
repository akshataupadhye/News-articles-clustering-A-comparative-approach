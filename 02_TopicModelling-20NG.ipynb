{
 "cells": [
  {
   "cell_type": "markdown",
   "metadata": {},
   "source": [
    "### In this notebook I will be preprocessing the data and building an LDA model to model the news articles into their respective groups."
   ]
  },
  {
   "cell_type": "code",
   "execution_count": 1,
   "metadata": {},
   "outputs": [
    {
     "name": "stderr",
     "output_type": "stream",
     "text": [
      "[nltk_data] Downloading package punkt to\n",
      "[nltk_data]     C:\\Users\\3aksh\\AppData\\Roaming\\nltk_data...\n",
      "[nltk_data]   Package punkt is already up-to-date!\n",
      "[nltk_data] Downloading package stopwords to\n",
      "[nltk_data]     C:\\Users\\3aksh\\AppData\\Roaming\\nltk_data...\n",
      "[nltk_data]   Package stopwords is already up-to-date!\n"
     ]
    },
    {
     "data": {
      "text/plain": [
       "True"
      ]
     },
     "execution_count": 1,
     "metadata": {},
     "output_type": "execute_result"
    }
   ],
   "source": [
    "import nltk; \n",
    "import re\n",
    "import numpy as np\n",
    "import pandas as pd\n",
    "import itertools\n",
    "import spacy\n",
    "from nltk.corpus import stopwords\n",
    "from sklearn.datasets import fetch_20newsgroups\n",
    "import gensim\n",
    "import gensim.corpora as corpora\n",
    "from gensim.utils import simple_preprocess\n",
    "from gensim.models import CoherenceModel\n",
    "from gensim.models.doc2vec import Doc2Vec, TaggedDocument\n",
    "from nltk.tokenize import word_tokenize\n",
    "from matplotlib import pyplot as plt\n",
    "from scipy.cluster.hierarchy import dendrogram\n",
    "from sklearn.cluster import AgglomerativeClustering\n",
    "import warnings\n",
    "warnings.filterwarnings('ignore')\n",
    "stop_words = stopwords.words('english')\n",
    "nltk.download('punkt')\n",
    "nltk.download('stopwords')"
   ]
  },
  {
   "cell_type": "markdown",
   "metadata": {},
   "source": [
    "### Helper Functions"
   ]
  },
  {
   "cell_type": "code",
   "execution_count": 2,
   "metadata": {},
   "outputs": [],
   "source": [
    "#Function to compute rand index\n",
    "def compute_rand_index(documents_list,cluster_labels_LDA,cluster_labels_D2V):\n",
    "        X_dict = dict(zip(documents_list, cluster_labels_LDA)) \n",
    "        Y_dict = dict(zip(documents_list, cluster_labels_D2V))\n",
    "        r = 2\n",
    "        a = 0\n",
    "        b = 0\n",
    "        total = 0\n",
    "        for i,j in list(itertools.combinations(documents_list, r)):\n",
    "            if (X_dict.get(i) == X_dict.get(j) and Y_dict.get(i) == Y_dict.get(j)) :\n",
    "                a += 1\n",
    "            elif (X_dict.get(i) != X_dict.get(j) and Y_dict.get(i) != Y_dict.get(j)):\n",
    "                b += 1\n",
    "            total += 1\n",
    "        return float(a+b) / total\n",
    "\n",
    "# Function to prepare data    \n",
    "def prepare_data(data):\n",
    "    #Seperate data into individual lists from the dictionary\n",
    "    documents = data[\"data\"]\n",
    "    doc_id = np.arange(len(documents))\n",
    "    #Seperate document labels into individual lists from the dictionary\n",
    "    target = data[\"target\"]\n",
    "    #Create a dataframe\n",
    "    df = pd.DataFrame({'doc_id': doc_id,'documents':documents,'class_no':target})\n",
    "    return df\n",
    "\n",
    "# Tokenize words and Clean-up text\n",
    "def sent_to_words(sentences):\n",
    "    for sentence in sentences:\n",
    "        yield(gensim.utils.simple_preprocess(str(sentence), deacc=True))\n",
    "        \n",
    "# Define functions for stopwords, bigrams, trigrams and lemmatization\n",
    "def remove_stopwords(texts):\n",
    "    return [[word for word in simple_preprocess(str(doc)) if word not in stop_words] for doc in texts]\n",
    "\n",
    "def make_bigrams(texts):\n",
    "    return [bigram_mod[doc] for doc in texts]\n",
    "\n",
    "#def make_trigrams(texts):\n",
    "#    return [trigram_mod[bigram_mod[doc]] for doc in texts]\n",
    "\n",
    "#Function to lemmatize the data\n",
    "def lemmatization(texts, allowed_postags=['NOUN', 'ADJ', 'VERB', 'ADV']):\n",
    "    \"\"\"https://spacy.io/api/annotation\"\"\"\n",
    "    texts_out = []\n",
    "    for sent in texts:\n",
    "        doc = nlp(\" \".join(sent)) \n",
    "        texts_out.append([token.lemma_ for token in doc if token.pos_ in allowed_postags])\n",
    "    return texts_out\n",
    "    \n",
    "# Create Dictionary\n",
    "def create_dictionary_LDA(data):\n",
    "    # Create Dictionary\n",
    "    id2word = corpora.Dictionary(data)\n",
    "    # Create Corpus\n",
    "    texts = data\n",
    "    # Term Document Frequency\n",
    "    corpus = [id2word.doc2bow(text) for text in texts]\n",
    "    return corpus, id2word\n",
    "\n",
    "\n",
    "#Function to get RI scores of LDA clustering\n",
    "def get_RandIndex_LDA(num_of_topics):\n",
    "    list_of_RI = []\n",
    "    \n",
    "    \n",
    "    for t in num_of_topics:\n",
    "        lda_model = gensim.models.ldamodel.LdaModel(corpus=corpus,\n",
    "                                           id2word=id2word,\n",
    "                                           num_topics=t, \n",
    "                                           random_state=100,\n",
    "                                           update_every=1,\n",
    "                                           chunksize=1000,\n",
    "                                           passes=1,\n",
    "                                           alpha='symmetric',\n",
    "                                           per_word_topics=True)\n",
    "        \n",
    "        # Assigns the topics to the documents in corpus\n",
    "\n",
    "        doc_topic = lda_model.get_document_topics(corpus, minimum_probability=None, minimum_phi_value=None, per_word_topics=False)\n",
    "        \n",
    "        #seperating topic distribution\n",
    "        \n",
    "        topic_distribution = []\n",
    "        for j in zip(doc_topic,doc_id):\n",
    "            topic_distribution.append(j[0])#seperating topic distribution\n",
    "            \n",
    "        #print(len(topic_distribution))\n",
    "        #to get list of max probabilities for each document\n",
    "        \n",
    "        list_of_max_prob = []\n",
    "        for list_ in topic_distribution:\n",
    "            list_of_max_prob.append(max(list_, key=lambda x:x[1]))#to compare using second value in a tuple that is the probability distribution\n",
    "        #print(len(list_of_max_prob))\n",
    "        #to get the clusters to which each document belongs to\n",
    "        cluster_lda = []\n",
    "        for i in list_of_max_prob:\n",
    "            cluster_lda.append(i[0])#Final list of clusters based on max probability\n",
    "            \n",
    "        list_of_RI.append(compute_rand_index(docs,cluster_lda,ground_truth))\n",
    "            \n",
    "    return list_of_RI, cluster_lda, lda_model\n",
    "    \n",
    "#Save model predictions\n",
    "def save_clusters(clusters, data):\n",
    "    data['LDA_clusters'] = clusters\n",
    "    data.to_csv(\"model_predictions.csv\")"
   ]
  },
  {
   "cell_type": "markdown",
   "metadata": {},
   "source": [
    "### Import Dataset"
   ]
  },
  {
   "cell_type": "code",
   "execution_count": 3,
   "metadata": {},
   "outputs": [],
   "source": [
    "newsgroups_data = fetch_20newsgroups()"
   ]
  },
  {
   "cell_type": "markdown",
   "metadata": {},
   "source": [
    "### Preparing the data"
   ]
  },
  {
   "cell_type": "code",
   "execution_count": 4,
   "metadata": {},
   "outputs": [],
   "source": [
    "newsgroups_data_df = prepare_data(newsgroups_data)"
   ]
  },
  {
   "cell_type": "code",
   "execution_count": 5,
   "metadata": {},
   "outputs": [
    {
     "data": {
      "text/html": [
       "<div>\n",
       "<style scoped>\n",
       "    .dataframe tbody tr th:only-of-type {\n",
       "        vertical-align: middle;\n",
       "    }\n",
       "\n",
       "    .dataframe tbody tr th {\n",
       "        vertical-align: top;\n",
       "    }\n",
       "\n",
       "    .dataframe thead th {\n",
       "        text-align: right;\n",
       "    }\n",
       "</style>\n",
       "<table border=\"1\" class=\"dataframe\">\n",
       "  <thead>\n",
       "    <tr style=\"text-align: right;\">\n",
       "      <th></th>\n",
       "      <th>doc_id</th>\n",
       "      <th>documents</th>\n",
       "      <th>class_no</th>\n",
       "    </tr>\n",
       "  </thead>\n",
       "  <tbody>\n",
       "    <tr>\n",
       "      <th>0</th>\n",
       "      <td>0</td>\n",
       "      <td>From: lerxst@wam.umd.edu (where's my thing)\\nS...</td>\n",
       "      <td>7</td>\n",
       "    </tr>\n",
       "    <tr>\n",
       "      <th>1</th>\n",
       "      <td>1</td>\n",
       "      <td>From: guykuo@carson.u.washington.edu (Guy Kuo)...</td>\n",
       "      <td>4</td>\n",
       "    </tr>\n",
       "    <tr>\n",
       "      <th>2</th>\n",
       "      <td>2</td>\n",
       "      <td>From: twillis@ec.ecn.purdue.edu (Thomas E Will...</td>\n",
       "      <td>4</td>\n",
       "    </tr>\n",
       "    <tr>\n",
       "      <th>3</th>\n",
       "      <td>3</td>\n",
       "      <td>From: jgreen@amber (Joe Green)\\nSubject: Re: W...</td>\n",
       "      <td>1</td>\n",
       "    </tr>\n",
       "    <tr>\n",
       "      <th>4</th>\n",
       "      <td>4</td>\n",
       "      <td>From: jcm@head-cfa.harvard.edu (Jonathan McDow...</td>\n",
       "      <td>14</td>\n",
       "    </tr>\n",
       "    <tr>\n",
       "      <th>5</th>\n",
       "      <td>5</td>\n",
       "      <td>From: dfo@vttoulu.tko.vtt.fi (Foxvog Douglas)\\...</td>\n",
       "      <td>16</td>\n",
       "    </tr>\n",
       "    <tr>\n",
       "      <th>6</th>\n",
       "      <td>6</td>\n",
       "      <td>From: bmdelane@quads.uchicago.edu (brian manni...</td>\n",
       "      <td>13</td>\n",
       "    </tr>\n",
       "    <tr>\n",
       "      <th>7</th>\n",
       "      <td>7</td>\n",
       "      <td>From: bgrubb@dante.nmsu.edu (GRUBB)\\nSubject: ...</td>\n",
       "      <td>3</td>\n",
       "    </tr>\n",
       "    <tr>\n",
       "      <th>8</th>\n",
       "      <td>8</td>\n",
       "      <td>From: holmes7000@iscsvax.uni.edu\\nSubject: WIn...</td>\n",
       "      <td>2</td>\n",
       "    </tr>\n",
       "    <tr>\n",
       "      <th>9</th>\n",
       "      <td>9</td>\n",
       "      <td>From: kerr@ux1.cso.uiuc.edu (Stan Kerr)\\nSubje...</td>\n",
       "      <td>4</td>\n",
       "    </tr>\n",
       "  </tbody>\n",
       "</table>\n",
       "</div>"
      ],
      "text/plain": [
       "   doc_id                                          documents  class_no\n",
       "0       0  From: lerxst@wam.umd.edu (where's my thing)\\nS...         7\n",
       "1       1  From: guykuo@carson.u.washington.edu (Guy Kuo)...         4\n",
       "2       2  From: twillis@ec.ecn.purdue.edu (Thomas E Will...         4\n",
       "3       3  From: jgreen@amber (Joe Green)\\nSubject: Re: W...         1\n",
       "4       4  From: jcm@head-cfa.harvard.edu (Jonathan McDow...        14\n",
       "5       5  From: dfo@vttoulu.tko.vtt.fi (Foxvog Douglas)\\...        16\n",
       "6       6  From: bmdelane@quads.uchicago.edu (brian manni...        13\n",
       "7       7  From: bgrubb@dante.nmsu.edu (GRUBB)\\nSubject: ...         3\n",
       "8       8  From: holmes7000@iscsvax.uni.edu\\nSubject: WIn...         2\n",
       "9       9  From: kerr@ux1.cso.uiuc.edu (Stan Kerr)\\nSubje...         4"
      ]
     },
     "execution_count": 5,
     "metadata": {},
     "output_type": "execute_result"
    }
   ],
   "source": [
    "newsgroups_data_df.head(10)"
   ]
  },
  {
   "cell_type": "code",
   "execution_count": 6,
   "metadata": {},
   "outputs": [],
   "source": [
    "docs = newsgroups_data_df.documents.tolist()\n",
    "doc_id = newsgroups_data_df.doc_id.values.tolist()\n",
    "ground_truth = newsgroups_data_df.class_no.values.tolist()"
   ]
  },
  {
   "cell_type": "markdown",
   "metadata": {},
   "source": [
    "### Cleaning the data"
   ]
  },
  {
   "cell_type": "code",
   "execution_count": 7,
   "metadata": {},
   "outputs": [],
   "source": [
    "# Convert to list\n",
    "data = newsgroups_data_df.documents.values.tolist()\n",
    "\n",
    "# deacc=True removes punctuations\n",
    "data_words = list(sent_to_words(data))\n",
    "\n",
    "# Remove Stop Words\n",
    "data_words_nostops = remove_stopwords(data_words)\n",
    "\n",
    "# Creating Bigrams\n",
    "bigram = gensim.models.Phrases(data_words_nostops) # higher threshold fewer phrases.\n",
    "\n",
    "# Faster way to get a sentence clubbed as a trigram/bigram\n",
    "bigram_mod = gensim.models.phrases.Phraser(bigram)\n",
    "\n",
    "# Form Bigrams\n",
    "data_words_bigrams = make_bigrams(data_words_nostops)\n",
    "\n",
    "# Initialize spacy 'en' model, keeping only tagger component (for efficiency)\n",
    "# python3 -m spacy download en\n",
    "nlp = spacy.load('en_core_web_sm', disable=['parser', 'ner'])\n",
    "\n",
    "# Do lemmatization keeping only noun, adj, vb, adv\n",
    "data_lemmatized = lemmatization(data_words_bigrams, allowed_postags=['NOUN', 'ADJ', 'VERB', 'ADV'])"
   ]
  },
  {
   "cell_type": "markdown",
   "metadata": {},
   "source": [
    "## LDA topic models"
   ]
  },
  {
   "cell_type": "markdown",
   "metadata": {},
   "source": [
    "### Create the Dictionary and Corpus needed for Topic Modeling"
   ]
  },
  {
   "cell_type": "code",
   "execution_count": 8,
   "metadata": {
    "scrolled": true
   },
   "outputs": [],
   "source": [
    "# Get Dictionary\n",
    "corpus, id2word = create_dictionary_LDA(data_lemmatized)"
   ]
  },
  {
   "cell_type": "markdown",
   "metadata": {},
   "source": [
    "## Building the LDA Model and getting the Rand Index values"
   ]
  },
  {
   "cell_type": "code",
   "execution_count": 9,
   "metadata": {},
   "outputs": [],
   "source": [
    "number_of_clusters = [20]\n",
    "list_of_RI, cluster_lda, lda_model = get_RandIndex_LDA(number_of_clusters)"
   ]
  },
  {
   "cell_type": "code",
   "execution_count": 10,
   "metadata": {},
   "outputs": [
    {
     "name": "stdout",
     "output_type": "stream",
     "text": [
      "\n",
      " The Rand Index score for the LDA clusters when compared with the true labels is : 0.8721040983369996\n"
     ]
    }
   ],
   "source": [
    "print(\"\\n The Rand Index score for the LDA clusters when compared with the true labels is : \" + str(list_of_RI[0]))"
   ]
  },
  {
   "cell_type": "markdown",
   "metadata": {},
   "source": [
    "### Save the predictions"
   ]
  },
  {
   "cell_type": "code",
   "execution_count": 11,
   "metadata": {},
   "outputs": [],
   "source": [
    "newsgroups_data_df['LDA_clusters'] = cluster_lda\n",
    "newsgroups_data_df.to_csv(\"model_predictions.csv\")"
   ]
  },
  {
   "cell_type": "code",
   "execution_count": null,
   "metadata": {},
   "outputs": [],
   "source": []
  }
 ],
 "metadata": {
  "kernelspec": {
   "display_name": "Python 3",
   "language": "python",
   "name": "python3"
  },
  "language_info": {
   "codemirror_mode": {
    "name": "ipython",
    "version": 3
   },
   "file_extension": ".py",
   "mimetype": "text/x-python",
   "name": "python",
   "nbconvert_exporter": "python",
   "pygments_lexer": "ipython3",
   "version": "3.8.5"
  }
 },
 "nbformat": 4,
 "nbformat_minor": 2
}
